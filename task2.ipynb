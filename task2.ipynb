{
 "cells": [
  {
   "cell_type": "markdown",
   "id": "ac608828-0941-45c2-b563-b04c579ff952",
   "metadata": {},
   "source": [
    "Class: a class is a blueprint to build objects into programminng world \n",
    "\n",
    "Object: an object is an instance of a class where it will have its own attributes allocated to it inside the class "
   ]
  },
  {
   "cell_type": "code",
   "execution_count": 2,
   "id": "cbbcc0cc-c841-4383-a18a-4ea10262e512",
   "metadata": {},
   "outputs": [
    {
     "name": "stdout",
     "output_type": "stream",
     "text": [
      "the class room 2A has 40 no of students\n"
     ]
    }
   ],
   "source": [
    "class Room:\n",
    "    def __init__(self,total_students,class_room):\n",
    "        self.total_students = total_students\n",
    "        self.class_room = class_room\n",
    "        \n",
    "    def display(self):\n",
    "        print(f'the class room {self.class_room} has {self.total_students} no of students')\n",
    "        \n",
    "bsai = Room(40,'2A')\n",
    "bsai.display()"
   ]
  },
  {
   "cell_type": "markdown",
   "id": "6f693b82-2802-4e41-83b5-c3157a702675",
   "metadata": {},
   "source": [
    "__init__ : method is a constructor used to initialize the attributes of an object when it is created. It’s called automatically when an object is instantiated from a class.\n",
    "\n",
    "__str__: method defines how an object is represented as a string when printed or converted to a string. It’s called when you use print() or str() on an object."
   ]
  },
  {
   "cell_type": "code",
   "execution_count": 5,
   "id": "9d2c769d-c398-4c23-8c8f-466e100793f9",
   "metadata": {},
   "outputs": [
    {
     "name": "stdout",
     "output_type": "stream",
     "text": [
      "40\n",
      "2A\n",
      "the class room 2A has 40 no of students\n"
     ]
    }
   ],
   "source": [
    "class Room:\n",
    "    def __init__(self,total_students,class_room):\n",
    "        self.total_students = total_students\n",
    "        self.class_room = class_room\n",
    "\n",
    "    def __str__(self):\n",
    "        return f'the class room {self.class_room} has {self.total_students} no of students'\n",
    "\n",
    "bsai = Room(40,'2A')\n",
    "print(bsai.total_students)\n",
    "print(bsai.class_room)\n",
    "print(bsai)\n"
   ]
  },
  {
   "cell_type": "code",
   "execution_count": null,
   "id": "dfd9c69a-5145-4b17-bcac-dad336986491",
   "metadata": {},
   "outputs": [],
   "source": []
  }
 ],
 "metadata": {
  "kernelspec": {
   "display_name": "Python 3 (ipykernel)",
   "language": "python",
   "name": "python3"
  },
  "language_info": {
   "codemirror_mode": {
    "name": "ipython",
    "version": 3
   },
   "file_extension": ".py",
   "mimetype": "text/x-python",
   "name": "python",
   "nbconvert_exporter": "python",
   "pygments_lexer": "ipython3",
   "version": "3.11.7"
  }
 },
 "nbformat": 4,
 "nbformat_minor": 5
}
