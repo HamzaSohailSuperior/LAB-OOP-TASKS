{
 "cells": [
  {
   "cell_type": "code",
   "execution_count": 3,
   "id": "b0c0aaef-dd47-4d32-98f5-a64e931dd4f3",
   "metadata": {},
   "outputs": [
    {
     "name": "stdout",
     "output_type": "stream",
     "text": [
      "Book Title: truth prevails, Author: Robert, Published Year: 1999\n"
     ]
    }
   ],
   "source": [
    "class Book:\n",
    "    def __init__(self, book_title, book_author, publish_year):\n",
    "        self.book_title = book_title\n",
    "        self.book_author = book_author\n",
    "        self.publish_year = publish_year\n",
    "\n",
    "    def __str__(self):\n",
    "        return f\"Book Title: {self.book_title}, Author: {self.book_author}, Published Year: {self.publish_year}\"\n",
    "\n",
    "\n",
    "book0 = Book('truth prevails', 'Robert', 1999)\n",
    "print(book0)\n"
   ]
  },
  {
   "cell_type": "code",
   "execution_count": null,
   "id": "d5cead26-d201-4257-96fc-900569d39c82",
   "metadata": {},
   "outputs": [],
   "source": []
  }
 ],
 "metadata": {
  "kernelspec": {
   "display_name": "Python 3 (ipykernel)",
   "language": "python",
   "name": "python3"
  },
  "language_info": {
   "codemirror_mode": {
    "name": "ipython",
    "version": 3
   },
   "file_extension": ".py",
   "mimetype": "text/x-python",
   "name": "python",
   "nbconvert_exporter": "python",
   "pygments_lexer": "ipython3",
   "version": "3.11.7"
  }
 },
 "nbformat": 4,
 "nbformat_minor": 5
}
