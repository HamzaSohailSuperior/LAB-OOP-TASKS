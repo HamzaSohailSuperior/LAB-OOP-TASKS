{
 "cells": [
  {
   "cell_type": "code",
   "execution_count": null,
   "id": "96d817e0-cc51-43a8-be8e-74694e6fecc3",
   "metadata": {},
   "outputs": [],
   "source": [
    "class Rect:\n",
    "    def __init__(self, width, height):\n",
    "        self.width = width\n",
    "        self.height = height\n",
    "\n",
    "    def __str__(self):\n",
    "        return f\"Rect: {self.width} by {self.height}\"\n",
    "\n",
    "    def calculate_area(self):\n",
    "        area = self.width * self.height\n",
    "        print(\"Area is:\", area)\n",
    "\n",
    "    def calculate_perimeter(self):\n",
    "        perimeter = 2 * (self.width + self.height)\n",
    "        print(\"Perimeter is:\", perimeter)\n",
    "\n",
    "rectangle = Rect(10, 5)\n",
    "rectangle.calculate_area()\n",
    "rectangle.calculate_perimeter()\n"
   ]
  }
 ],
 "metadata": {
  "kernelspec": {
   "display_name": "Python 3 (ipykernel)",
   "language": "python",
   "name": "python3"
  },
  "language_info": {
   "codemirror_mode": {
    "name": "ipython",
    "version": 3
   },
   "file_extension": ".py",
   "mimetype": "text/x-python",
   "name": "python",
   "nbconvert_exporter": "python",
   "pygments_lexer": "ipython3",
   "version": "3.11.7"
  }
 },
 "nbformat": 4,
 "nbformat_minor": 5
}
