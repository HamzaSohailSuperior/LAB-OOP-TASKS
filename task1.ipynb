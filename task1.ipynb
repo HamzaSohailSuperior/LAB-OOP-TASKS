{
 "cells": [
  {
   "cell_type": "code",
   "execution_count": 2,
   "id": "a70d0ec7-0a2e-4dac-af03-bb15c0b66804",
   "metadata": {},
   "outputs": [
    {
     "name": "stdout",
     "output_type": "stream",
     "text": [
      "True\n"
     ]
    }
   ],
   "source": [
    "def check_prime(num):\n",
    "    if num < 2:\n",
    "        return False\n",
    "    for i in range(2, int(num ** 0.5) + 1):\n",
    "        if num % i == 0:\n",
    "            return False\n",
    "    return True\n",
    "\n",
    "\n",
    "print(check_prime(13))\n"
   ]
  },
  {
   "cell_type": "code",
   "execution_count": null,
   "id": "0b2b23b7-b820-4728-982d-ee96f29aa29a",
   "metadata": {},
   "outputs": [],
   "source": [
    "def is_prime_number():\n",
    "    while True:\n",
    "        user_input = input(\"Enter a number to check (or 'exit' to quit): \")\n",
    "        \n",
    "        if user_input.lower() == 'exit':\n",
    "            break\n",
    "        \n",
    "        if not user_input.isdigit():\n",
    "            print(\"Please enter a valid positive integer.\")\n",
    "            continue\n",
    "        \n",
    "        num = int(user_input)\n",
    "\n",
    "        if num < 2:\n",
    "            print(\"Not prime\")\n",
    "            continue\n",
    "        \n",
    "        prime = True\n",
    "        for j in range(2, int(num ** 0.5) + 1):\n",
    "            if num % j == 0:\n",
    "                prime = False\n",
    "                break\n",
    "        \n",
    "        if prime:\n",
    "            print(\"It's prime!\")\n",
    "        else:\n",
    "            print(\"Not prime\")\n",
    "\n",
    "is_prime_number()\n"
   ]
  }
 ],
 "metadata": {
  "kernelspec": {
   "display_name": "Python 3 (ipykernel)",
   "language": "python",
   "name": "python3"
  },
  "language_info": {
   "codemirror_mode": {
    "name": "ipython",
    "version": 3
   },
   "file_extension": ".py",
   "mimetype": "text/x-python",
   "name": "python",
   "nbconvert_exporter": "python",
   "pygments_lexer": "ipython3",
   "version": "3.11.7"
  }
 },
 "nbformat": 4,
 "nbformat_minor": 5
}
